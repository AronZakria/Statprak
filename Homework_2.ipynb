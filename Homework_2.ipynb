{
 "cells": [
  {
   "cell_type": "code",
   "execution_count": 1,
   "metadata": {},
   "outputs": [
    {
     "name": "stdout",
     "output_type": "stream",
     "text": [
      "[[0.14460897 0.99713468 0.5495361 ]\n",
      " [0.51260892 0.89074771 0.41895686]\n",
      " [0.55273875 0.38292434 0.27627431]\n",
      " [0.17388905 0.81691827 0.68403547]\n",
      " [0.33293419 0.39900483 0.44822244]\n",
      " [0.94275296 0.25430488 0.9412908 ]\n",
      " [0.35403767 0.30994906 0.56902711]\n",
      " [0.59733201 0.31415514 0.28872429]\n",
      " [0.87748143 0.37938577 0.18019111]\n",
      " [0.82108702 0.98007028 0.69651254]] \n",
      "\n",
      "0.5495361044230523\n",
      "0.5126089231272767\n",
      "0.5527387468690259\n",
      "0.6840354698238585\n",
      "0.4482224433759424\n",
      "0.25430488446012167\n",
      "0.5690271140520722\n",
      "0.5973320107040682\n",
      "0.37938577116010497\n",
      "0.6965125429522057\n"
     ]
    }
   ],
   "source": [
    "from numpy import random\n",
    "from numpy import abs\n",
    "\n",
    "x = random.sample((10,3))\n",
    "print(x,'\\n')\n",
    "ind = abs(x - 0.5).argmin(axis = 1)\n",
    "i = 0\n",
    "while i < 10:\n",
    "    print(x[i][ind[i]])\n",
    "    i += 1\n",
    "    "
   ]
  },
  {
   "cell_type": "code",
   "execution_count": 2,
   "metadata": {},
   "outputs": [
    {
     "name": "stdout",
     "output_type": "stream",
     "text": [
      "[[6.95925358 0.69809246 3.02852488 0.92471136 3.78691966 4.04340204]\n",
      " [2.47496645 3.76675035 4.31918143 5.16347177 5.38703632 2.8252539 ]\n",
      " [1.92576641 4.0665497  1.07508087 4.24717337 0.46015641 6.99601013]\n",
      " [3.2456436  4.84972487 8.49356655 4.25898232 7.15773769 4.45272459]\n",
      " [0.6386606  2.93649801 2.18928141 7.87610352 6.76141049 2.72261677]\n",
      " [7.96590949 7.5649893  5.70481326 5.75342846 0.91201772 6.71597379]]\n",
      "\n",
      " 30.440117914125235\n",
      "\n",
      " 34.28866734941003\n",
      "\n",
      " 17.459837137567533\n",
      "\n",
      " 35.101093324063754\n",
      "\n",
      " 50.25371904945989\n",
      "\n",
      " 12.714654646529217\n"
     ]
    }
   ],
   "source": [
    "from numpy import sum\n",
    "from numpy import random\n",
    "\n",
    "x = 10*random.random((6,6))\n",
    "print(x)\n",
    "ind = x.argmin(axis = 0)\n",
    "i = 0\n",
    "while i < 6:\n",
    "    print('\\n', sum(x[i])/x[ind[i]][i])\n",
    "    i += 1"
   ]
  },
  {
   "cell_type": "code",
   "execution_count": 19,
   "metadata": {},
   "outputs": [
    {
     "name": "stdout",
     "output_type": "stream",
     "text": [
      "[0.71901285 0.39346096 0.2313302  0.16009484 0.12629887]\n",
      "0 is not in list\n",
      "[6 2 0 3 0 0 5 7 0]\n",
      "5\n"
     ]
    }
   ],
   "source": [
    "from numpy import array\n",
    "from numpy import random\n",
    "\n",
    "def max_after_zero(x):\n",
    "    length = x.shape[0]\n",
    "    x = x.tolist()\n",
    "    i = 0\n",
    "    m = 0\n",
    "    while i < length:\n",
    "        try:\n",
    "            i = x.index(0, i, length) + 1\n",
    "        except Exception as info:\n",
    "            print(info)\n",
    "            m = -1\n",
    "            break\n",
    "        if i == length :\n",
    "            break\n",
    "        if m < x[i]: \n",
    "            m = x[i]\n",
    "    if m > 0:        \n",
    "        print(m)\n",
    "\n",
    "if __name__ == '__main__':\n",
    "    x = array([6, 2, 0, 3, 0, 0, 5, 7, 0])\n",
    "    z = random.sample((5))\n",
    "    print(z)\n",
    "    max_after_zero(z)\n",
    "    print(x)\n",
    "    max_after_zero(x)\n",
    "\n"
   ]
  },
  {
   "cell_type": "code",
   "execution_count": 21,
   "metadata": {},
   "outputs": [
    {
     "name": "stdout",
     "output_type": "stream",
     "text": [
      "[1. 1. 1. 1. 1. 1. 1. 1. 1. 1.]\n",
      "[2. 2. 2. 2. 1. 4. 1. 1. 2. 1.]\n"
     ]
    }
   ],
   "source": [
    "import numpy\n",
    "\n",
    "x = numpy.ones(10)\n",
    "i = numpy.array([0, 1, 2, 3, 5, 5, 5, 8])\n",
    "\n",
    "print(x)\n",
    "j = 0\n",
    "while j < 8:\n",
    "    x[i[j]] += 1\n",
    "    j += 1\n",
    "print(x)"
   ]
  },
  {
   "cell_type": "code",
   "execution_count": 1,
   "metadata": {},
   "outputs": [
    {
     "name": "stdout",
     "output_type": "stream",
     "text": [
      "{0: [0], 1: [1, 10], 2: [2, 11, 20], 3: [3, 12, 21, 30], 4: [4, 13, 22, 31, 40], 5: [5, 14, 23, 32, 41, 50], 6: [6, 15, 24, 33, 42, 51, 60], 7: [7, 16, 25, 34, 43, 52, 61, 70], 8: [8, 17, 26, 35, 44, 53, 62, 71, 80], 9: [9, 18, 27, 36, 45, 54, 63, 72, 81, 90], 10: [19, 28, 37, 46, 55, 64, 73, 82, 91], 11: [29, 38, 47, 56, 65, 74, 83, 92], 12: [39, 48, 57, 66, 75, 84, 93], 13: [49, 58, 67, 76, 85, 94], 14: [59, 68, 77, 86, 95], 15: [69, 78, 87, 96], 16: [79, 88, 97], 17: [89, 98], 18: [99]}\n"
     ]
    }
   ],
   "source": [
    "from numpy import arange\n",
    "\n",
    "n = 10\n",
    "a = arange(n*n).reshape(n,n)\n",
    "b = {}\n",
    "i = 0\n",
    "ii = 0\n",
    "while i < 2*n - 1:\n",
    "    b[i] = []\n",
    "    i += 1\n",
    "while ii < n:\n",
    "    j = 0\n",
    "    while j < n:\n",
    "        b.get(ii + j).append(a[ii][j])\n",
    "        j += 1\n",
    "    ii += 1\n",
    "print(b)"
   ]
  },
  {
   "cell_type": "code",
   "execution_count": null,
   "metadata": {},
   "outputs": [],
   "source": []
  }
 ],
 "metadata": {
  "kernelspec": {
   "display_name": "Python 3",
   "language": "python",
   "name": "python3"
  },
  "language_info": {
   "codemirror_mode": {
    "name": "ipython",
    "version": 3
   },
   "file_extension": ".py",
   "mimetype": "text/x-python",
   "name": "python",
   "nbconvert_exporter": "python",
   "pygments_lexer": "ipython3",
   "version": "3.6.5"
  }
 },
 "nbformat": 4,
 "nbformat_minor": 2
}
